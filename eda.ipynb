{
 "cells": [
  {
   "cell_type": "code",
   "execution_count": 1,
   "id": "62875b9c-4bf3-4c35-9a2d-a03be379ec07",
   "metadata": {},
   "outputs": [
    {
     "name": "stdout",
     "output_type": "stream",
     "text": [
      "(32561, 15)\n",
      "Index(['age', 'workclass', 'fnlgt', 'education', 'education-num',\n",
      "       'marital-status', 'occupation', 'relationship', 'race', 'sex',\n",
      "       'capital-gain', 'capital-loss', 'hours-per-week', 'native-country',\n",
      "       'salary'],\n",
      "      dtype='object')\n",
      "(32561, 108)\n",
      "{np.int64(0), np.int64(1)}\n"
     ]
    }
   ],
   "source": [
    "#Notebook for quickly exploring the data\n",
    "import pandas as pd\n",
    "from ml.data import process_data\n",
    "\n",
    "df = pd.read_csv(\"data/census.csv\")\n",
    "print(df.shape)\n",
    "print(df.columns)\n",
    "\n",
    "X, y, encoder, lb = process_data(\n",
    "    df, \n",
    "    categorical_features=['workclass', 'education', 'marital-status', 'occupation', 'relationship', 'race', 'sex', 'native-country'],\n",
    "    label='salary',\n",
    "    training=True\n",
    ")\n",
    "\n",
    "print(X.shape)\n",
    "print(set(y))\n"
   ]
  },
  {
   "cell_type": "code",
   "execution_count": 3,
   "id": "1842d144-46e2-47a9-a5b6-366f88ededf5",
   "metadata": {},
   "outputs": [
    {
     "name": "stdout",
     "output_type": "stream",
     "text": [
      "Transformed X shape: (32561, 108)\n",
      "Target class values: {np.int64(0), np.int64(1)}\n"
     ]
    }
   ],
   "source": [
    "from ml.data import process_data\n",
    "\n",
    "# Define categorical feature names from df.columns\n",
    "cat_features = [\n",
    "    \"workclass\",\n",
    "    \"education\",\n",
    "    \"marital-status\",\n",
    "    \"occupation\",\n",
    "    \"relationship\",\n",
    "    \"race\",\n",
    "    \"sex\",\n",
    "    \"native-country\"\n",
    "]\n",
    "\n",
    "# Run the process_data function in training mode\n",
    "X, y, encoder, lb = process_data(\n",
    "    df,\n",
    "    categorical_features=cat_features,\n",
    "    label=\"salary\",\n",
    "    training=True\n",
    ")\n",
    "\n",
    "print(\"Transformed X shape:\", X.shape)\n",
    "print(\"Target class values:\", set(y))\n"
   ]
  },
  {
   "cell_type": "code",
   "execution_count": 4,
   "id": "32099868-20bd-411d-9670-60205aa7a211",
   "metadata": {},
   "outputs": [
    {
     "name": "stdout",
     "output_type": "stream",
     "text": [
      "['workclass_?' 'workclass_Federal-gov' 'workclass_Local-gov'\n",
      " 'workclass_Never-worked' 'workclass_Private' 'workclass_Self-emp-inc'\n",
      " 'workclass_Self-emp-not-inc' 'workclass_State-gov'\n",
      " 'workclass_Without-pay' 'education_10th']\n"
     ]
    }
   ],
   "source": [
    "# Check the one-hot encoded feature names\n",
    "encoded_features = encoder.get_feature_names_out(cat_features)\n",
    "print(encoded_features[:10])  # preview\n"
   ]
  },
  {
   "cell_type": "code",
   "execution_count": null,
   "id": "3677c467-4dba-46e8-8fc1-b49da3c3ee8e",
   "metadata": {},
   "outputs": [],
   "source": []
  }
 ],
 "metadata": {
  "kernelspec": {
   "display_name": "Python 3 (ipykernel)",
   "language": "python",
   "name": "python3"
  },
  "language_info": {
   "codemirror_mode": {
    "name": "ipython",
    "version": 3
   },
   "file_extension": ".py",
   "mimetype": "text/x-python",
   "name": "python",
   "nbconvert_exporter": "python",
   "pygments_lexer": "ipython3",
   "version": "3.10.18"
  }
 },
 "nbformat": 4,
 "nbformat_minor": 5
}
