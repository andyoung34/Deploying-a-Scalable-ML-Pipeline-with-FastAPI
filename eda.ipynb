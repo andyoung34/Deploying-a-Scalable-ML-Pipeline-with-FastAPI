{
 "cells": [
  {
   "cell_type": "code",
   "execution_count": 6,
   "id": "62875b9c-4bf3-4c35-9a2d-a03be379ec07",
   "metadata": {},
   "outputs": [
    {
     "name": "stdout",
     "output_type": "stream",
     "text": [
      "(32561, 15)\n",
      "Index(['age', 'workclass', 'fnlgt', 'education', 'education-num',\n",
      "       'marital-status', 'occupation', 'relationship', 'race', 'sex',\n",
      "       'capital-gain', 'capital-loss', 'hours-per-week', 'native-country',\n",
      "       'salary'],\n",
      "      dtype='object')\n",
      "(32561, 108)\n",
      "{np.int64(0), np.int64(1)}\n"
     ]
    }
   ],
   "source": [
    "#Notebook for quickly exploring the data\n",
    "import pandas as pd\n",
    "from ml.data import process_data\n",
    "\n",
    "df = pd.read_csv(\"data/census.csv\")\n",
    "print(df.shape)\n",
    "print(df.columns)\n",
    "\n",
    "X, y, encoder, lb = process_data(\n",
    "    df, \n",
    "    categorical_features=['workclass', 'education', 'marital-status', 'occupation', 'relationship', 'race', 'sex', 'native-country'],\n",
    "    label='salary',\n",
    "    training=True\n",
    ")\n",
    "\n",
    "print(X.shape)\n",
    "print(set(y))\n"
   ]
  },
  {
   "cell_type": "code",
   "execution_count": 7,
   "id": "1842d144-46e2-47a9-a5b6-366f88ededf5",
   "metadata": {},
   "outputs": [
    {
     "name": "stdout",
     "output_type": "stream",
     "text": [
      "Transformed X shape: (32561, 108)\n",
      "Target class values: {np.int64(0), np.int64(1)}\n"
     ]
    }
   ],
   "source": [
    "from ml.data import process_data\n",
    "\n",
    "# Define categorical feature names from df.columns\n",
    "cat_features = [\n",
    "    \"workclass\",\n",
    "    \"education\",\n",
    "    \"marital-status\",\n",
    "    \"occupation\",\n",
    "    \"relationship\",\n",
    "    \"race\",\n",
    "    \"sex\",\n",
    "    \"native-country\"\n",
    "]\n",
    "\n",
    "# Run the process_data function in training mode\n",
    "X, y, encoder, lb = process_data(\n",
    "    df,\n",
    "    categorical_features=cat_features,\n",
    "    label=\"salary\",\n",
    "    training=True\n",
    ")\n",
    "\n",
    "print(\"Transformed X shape:\", X.shape)\n",
    "print(\"Target class values:\", set(y))\n"
   ]
  },
  {
   "cell_type": "code",
   "execution_count": 8,
   "id": "32099868-20bd-411d-9670-60205aa7a211",
   "metadata": {},
   "outputs": [
    {
     "name": "stdout",
     "output_type": "stream",
     "text": [
      "['workclass_?' 'workclass_Federal-gov' 'workclass_Local-gov'\n",
      " 'workclass_Never-worked' 'workclass_Private' 'workclass_Self-emp-inc'\n",
      " 'workclass_Self-emp-not-inc' 'workclass_State-gov'\n",
      " 'workclass_Without-pay' 'education_10th']\n"
     ]
    }
   ],
   "source": [
    "# Check the one-hot encoded feature names\n",
    "encoded_features = encoder.get_feature_names_out(cat_features)\n",
    "print(encoded_features[:10])  # preview\n"
   ]
  },
  {
   "cell_type": "markdown",
   "id": "0dcdd036-2f02-466b-a88d-beb0d2d4db00",
   "metadata": {},
   "source": [
    "--Testing Model.py functions--"
   ]
  },
  {
   "cell_type": "code",
   "execution_count": 9,
   "id": "c04639b4-9b8a-4069-9091-cf86e3cd4478",
   "metadata": {},
   "outputs": [],
   "source": [
    "from ml.model import (\n",
    "    train_model,\n",
    "    performance_on_categorical_slice\n",
    ")\n",
    "from ml.data import process_data\n",
    "from sklearn.model_selection import train_test_split"
   ]
  },
  {
   "cell_type": "code",
   "execution_count": 10,
   "id": "423ad4c4-2361-4938-8db6-aa0e0d3eeee4",
   "metadata": {},
   "outputs": [],
   "source": [
    "cat_features = [\n",
    "    \"workclass\",\n",
    "    \"education\",\n",
    "    \"marital-status\",\n",
    "    \"occupation\",\n",
    "    \"relationship\",\n",
    "    \"race\",\n",
    "    \"sex\",\n",
    "    \"native-country\",\n",
    "]\n",
    "\n",
    "# Train/test split\n",
    "train_df, test_df = train_test_split(df, test_size=0.2, random_state=42)\n",
    "\n",
    "# Process training data\n",
    "X_train, y_train, encoder, lb = process_data(\n",
    "    train_df,\n",
    "    categorical_features=cat_features,\n",
    "    label=\"salary\",\n",
    "    training=True\n",
    ")\n",
    "\n",
    "# Train the model\n",
    "model = train_model(X_train, y_train)"
   ]
  },
  {
   "cell_type": "code",
   "execution_count": 11,
   "id": "ebc2b606-e20c-454e-b1c7-6640655168ad",
   "metadata": {},
   "outputs": [
    {
     "name": "stdout",
     "output_type": "stream",
     "text": [
      "education=Bachelors | Precision: 0.7523 | Recall: 0.7289 | F1: 0.7404\n"
     ]
    }
   ],
   "source": [
    "precision, recall, f1 = performance_on_categorical_slice(\n",
    "    test_df,\n",
    "    column_name=\"education\",\n",
    "    slice_value=\"Bachelors\",\n",
    "    categorical_features=cat_features,\n",
    "    label=\"salary\",\n",
    "    encoder=encoder,\n",
    "    lb=lb,\n",
    "    model=model\n",
    ")\n",
    "\n",
    "print(f\"education=Bachelors | Precision: {precision:.4f} | Recall: {recall:.4f} | F1: {f1:.4f}\")"
   ]
  },
  {
   "cell_type": "markdown",
   "id": "a34b7f98-f8cc-410c-a2b3-8223cae58203",
   "metadata": {},
   "source": [
    "-- --"
   ]
  },
  {
   "cell_type": "code",
   "execution_count": null,
   "id": "24cf2c37-bf0d-4c7b-9138-216c9380f199",
   "metadata": {},
   "outputs": [],
   "source": []
  }
 ],
 "metadata": {
  "kernelspec": {
   "display_name": "Python 3 (ipykernel)",
   "language": "python",
   "name": "python3"
  },
  "language_info": {
   "codemirror_mode": {
    "name": "ipython",
    "version": 3
   },
   "file_extension": ".py",
   "mimetype": "text/x-python",
   "name": "python",
   "nbconvert_exporter": "python",
   "pygments_lexer": "ipython3",
   "version": "3.10.18"
  }
 },
 "nbformat": 4,
 "nbformat_minor": 5
}
